{
 "cells": [
  {
   "cell_type": "code",
   "execution_count": null,
   "metadata": {},
   "outputs": [],
   "source": [
    "from sympy import *\n",
    "from sympy.matrices import BlockMatrix, Matrix, zeros\n",
    "import sympy as sp\n",
    "import numpy as np"
   ]
  },
  {
   "cell_type": "code",
   "execution_count": null,
   "metadata": {},
   "outputs": [],
   "source": [
    "Ts = 0.09\n",
    "dt = 0.01\n",
    "foot_height_keep_STF = 0.2\n",
    "N = int(Ts/dt)\n",
    "print('Nb steps = ', N)\n",
    "nb_total_variables_per_coordinate = int(3 * N) # px, vx, zx\n",
    "print('nb_total_variables_per_coordinate', nb_total_variables_per_coordinate)\n",
    "nb_total_variables = 3 * nb_total_variables_per_coordinate # x, y, z\n",
    "print(nb_total_variables, 'variables')"
   ]
  },
  {
   "cell_type": "code",
   "execution_count": null,
   "metadata": {},
   "outputs": [],
   "source": [
    "variables = []\n",
    "coord = ['x', 'y', 'z']\n",
    "for c in coord:\n",
    "    for i in range(N):\n",
    "        p = symbols(f'p{c}{i}')\n",
    "        v = symbols(f'v{c}{i}')\n",
    "        a = symbols(f'a{c}{i}')\n",
    "        variables.extend([p, v, a])\n",
    "pva_vector = Matrix(variables)\n",
    "print('------------------- Optimization Variable -------------------')\n",
    "print('pva_vector = ', len(pva_vector), ' variables')\n",
    "for i in range(3):\n",
    "    pprint(pva_vector.T[i*nb_total_variables_per_coordinate:(i+1)*nb_total_variables_per_coordinate])\n"
   ]
  },
  {
   "cell_type": "code",
   "execution_count": null,
   "metadata": {},
   "outputs": [],
   "source": [
    "print('------------------- P Mat -------------------')\n",
    "opt_weight_desired_pos = 10\n",
    "opt_weight_desired_vel = 1\n",
    "zero_matrix_3_by_3 = Matrix([[0, 0, 0], [0, 0, 0], [0, 0, 0]])\n",
    "\n",
    "p_N_des = sp.Matrix([0.2, 0.3, 0.1])\n",
    "v_N_des = sp.zeros(3)\n",
    "\n",
    "q = zeros(nb_total_variables, 1)\n",
    "P_matrix = zeros(nb_total_variables, nb_total_variables)\n",
    "\n",
    "for i in range(nb_total_variables_per_coordinate):\n",
    "    P_matrix[i * 3 + 2, i * 3 + 2] = 1.0\n",
    "\n",
    "for i in range(3):\n",
    "    P_matrix[(i + 1) * nb_total_variables_per_coordinate - 3, (i + 1) * nb_total_variables_per_coordinate - 3] = opt_weight_desired_pos\n",
    "    P_matrix[(i + 1) * nb_total_variables_per_coordinate - 2, (i + 1) * nb_total_variables_per_coordinate - 2] = opt_weight_desired_vel\n",
    "\n",
    "    q[(i+1) * nb_total_variables_per_coordinate - 3] = -2 * opt_weight_desired_pos * p_N_des[i]\n",
    "    q[(i+1) * nb_total_variables_per_coordinate - 2] = -2 * opt_weight_desired_vel * v_N_des[i]\n",
    "\n",
    "vPv = pva_vector.T * P_matrix * pva_vector\n",
    "\n",
    "objective_function = vPv + q.T * pva_vector\n",
    "print('Objective function')\n",
    "pprint(objective_function)\n"
   ]
  },
  {
   "cell_type": "code",
   "execution_count": null,
   "metadata": {},
   "outputs": [],
   "source": [
    "\n",
    "A_eq_pos_vel_des = sp.zeros(6, nb_total_variables)\n",
    "\n",
    "A_eq_pos_vel_des[0, 0] = 1\n",
    "A_eq_pos_vel_des[1, 1] = 1\n",
    "\n",
    "A_eq_pos_vel_des[2, nb_total_variables_per_coordinate] = 1\n",
    "A_eq_pos_vel_des[3, nb_total_variables_per_coordinate + 1] = 1\n",
    "\n",
    "A_eq_pos_vel_des[4, 2*nb_total_variables_per_coordinate] = 1\n",
    "A_eq_pos_vel_des[5, 2*nb_total_variables_per_coordinate + 1] = 1\n",
    "\n",
    "result_vector = A_eq_pos_vel_des*pva_vector\n",
    "print('------------------- Boundary Points Equality Contraints -------------------')\n",
    "print('A_eq_pos_vel_desired * v = ')\n",
    "pprint(result_vector)"
   ]
  },
  {
   "cell_type": "code",
   "execution_count": null,
   "metadata": {},
   "outputs": [],
   "source": [
    "dt_symbol = symbols('dt')\n",
    "block_dynamics = zeros(2, 6)\n",
    "block_dynamics[0, 0] = 1\n",
    "block_dynamics[0, 1] = dt_symbol\n",
    "block_dynamics[0, 3] = -1\n",
    "block_dynamics[1, 1] = 1\n",
    "block_dynamics[1, 2] = dt_symbol\n",
    "block_dynamics[1, 4] = -1\n",
    "A_dynamics_per_coordinate = zeros(2 * N - 2, 3 * N)\n",
    "\n",
    "j = 0\n",
    "for i in range(int((2 * N - 2)/2)):\n",
    "    A_dynamics_per_coordinate[j : j + 2, i * 3: i * 3 + 6] = block_dynamics\n",
    "    j = j + 2\n",
    "\n",
    "pva_vector_x_comp = pva_vector[0:nb_total_variables_per_coordinate, 0]\n",
    "\n",
    "size_rows_A = A_dynamics_per_coordinate.shape[0]\n",
    "size_cols_A = A_dynamics_per_coordinate.shape[1]\n",
    "A_dynamics = zeros(3 * size_rows_A, nb_total_variables)\n",
    "\n",
    "for i in range(3):\n",
    "    A_dynamics[i * size_rows_A : i * size_rows_A + size_rows_A, i * size_cols_A : i * size_cols_A + size_cols_A] = A_dynamics_per_coordinate\n",
    "\n",
    "mult = A_dynamics * pva_vector\n",
    "print('------------------- Dynamic Contraints -------------------')\n",
    "pprint(mult)"
   ]
  },
  {
   "cell_type": "code",
   "execution_count": null,
   "metadata": {},
   "outputs": [],
   "source": [
    "block = zeros(2, 3)\n",
    "block[0, 1] = 1\n",
    "block[1, 2] = 1\n",
    "A_limits = zeros(nb_total_variables_per_coordinate * 2, nb_total_variables)\n",
    "\n",
    "for i in range(nb_total_variables_per_coordinate):\n",
    "    A_limits[2*i:2*(i+1), 3*i:3*(i+1)] = block\n",
    "\n",
    "pprint((A_limits*pva_vector).T)"
   ]
  },
  {
   "cell_type": "code",
   "execution_count": null,
   "metadata": {},
   "outputs": [],
   "source": [
    "A_total = Matrix.vstack(A_eq_pos_vel_des,\n",
    "                    A_dynamics,\n",
    "                    A_limits)\n",
    "\n",
    "print('A * PVA_VECTOR')\n",
    "pprint(A_total*pva_vector)"
   ]
  },
  {
   "cell_type": "code",
   "execution_count": null,
   "metadata": {},
   "outputs": [],
   "source": [
    "# Limits\n",
    "p0_desired = 0.0\n",
    "v0_desired = 0.0\n",
    "\n",
    "l_boundary_pts_per_coordinate = Matrix([p0_desired, v0_desired])\n",
    "u_boundary_pts_per_coordinate = Matrix([p0_desired, v0_desired])\n",
    "\n",
    "\n",
    "l_boundary_pts = Matrix.vstack(l_boundary_pts_per_coordinate, l_boundary_pts_per_coordinate, l_boundary_pts_per_coordinate)\n",
    "u_boundary_pts = Matrix.vstack(u_boundary_pts_per_coordinate, u_boundary_pts_per_coordinate, u_boundary_pts_per_coordinate)\n",
    "\n",
    "l_boundary_pts"
   ]
  },
  {
   "cell_type": "code",
   "execution_count": null,
   "metadata": {},
   "outputs": [],
   "source": [
    "v_max = 20.0\n",
    "a_max = 100.0\n",
    "l_limits_per_coordinate = zeros(2 * N, 1)\n",
    "u_limits_per_coordinate = zeros(2 * N, 1)\n",
    "\n",
    "for i in range(0, 2 * N, 2):\n",
    "    l_limits_per_coordinate[i, 0] = -v_max\n",
    "    u_limits_per_coordinate[i, 0] = v_max\n",
    "\n",
    "for i in range(1, 2 * N, 2):\n",
    "    l_limits_per_coordinate[i, 0] = -a_max\n",
    "    u_limits_per_coordinate[i, 0] = a_max\n",
    "\n",
    "\n",
    "l_limits = Matrix.vstack(l_limits_per_coordinate, l_limits_per_coordinate, l_limits_per_coordinate)\n",
    "u_limits = Matrix.vstack(u_limits_per_coordinate, u_limits_per_coordinate, u_limits_per_coordinate)\n",
    "pprint(l_limits.T)\n",
    "pprint(u_limits.T)\n"
   ]
  },
  {
   "cell_type": "code",
   "execution_count": null,
   "metadata": {},
   "outputs": [],
   "source": [
    "\n",
    "T_keep = 33/100*Ts\n",
    "T_start_keep = 33/100*Ts\n",
    "T_end_keep = T_keep + T_start_keep\n",
    "n_keep = int(T_keep/dt)\n",
    "n_start_keep = int(T_start_keep/dt)\n",
    "n_end_keep = n_keep + n_start_keep\n",
    "\n",
    "A_keep_foot = zeros(n_keep, nb_total_variables)\n",
    "\n",
    "j = n_start_keep\n",
    "for i in range(n_keep):\n",
    "    A_keep_foot[i, 2*nb_total_variables_per_coordinate + 3*j] = 1\n",
    "    j = j + 1\n",
    "\n",
    "pprint(A_keep_foot @ pva_vector)"
   ]
  },
  {
   "cell_type": "code",
   "execution_count": null,
   "metadata": {},
   "outputs": [],
   "source": [
    "pprint(pva_vector[0])\n",
    "pprint(pva_vector[nb_total_variables_per_coordinate-3])\n",
    "\n",
    "pprint(pva_vector[0:nb_total_variables_per_coordinate:3])"
   ]
  },
  {
   "cell_type": "code",
   "execution_count": null,
   "metadata": {},
   "outputs": [],
   "source": [
    "import pandas as pd\n",
    "\n",
    "df = pd.read_csv('output.csv')\n",
    "df.head()"
   ]
  },
  {
   "cell_type": "code",
   "execution_count": null,
   "metadata": {},
   "outputs": [],
   "source": [
    "import matplotlib.pyplot as plt\n",
    "\n",
    "fig, axs = plt.subplots(3, 3, figsize=(15, 10))\n",
    "axs[0, 0].set_title('x')\n",
    "axs[0, 0].plot(df['Position_X'], '.-r', label='pos')\n",
    "axs[0, 0].set_ylabel('x [m]')\n",
    "axs[1, 0].plot(df['Velocity_X'], '.-g', label='vel')\n",
    "axs[1, 0].set_ylabel('v [m/s]')\n",
    "# axs[1].plot(t[-1], v_N_desired, 'o')\n",
    "axs[2, 0].plot(df['Acceleration_X'], '.-b', label='acc')\n",
    "axs[2, 0].set_ylabel('a [m/s^2]')\n",
    "axs[2, 0].set_xlabel('t [s]')\n",
    "\n",
    "axs[0, 1].set_title('y')\n",
    "axs[0, 1].plot(df['Position_Y'], '.-r', label='pos')\n",
    "axs[1, 1].plot(df['Velocity_Y'], '.-g', label='vel')\n",
    "# axs[1].plot(t[-1], v_N_desired, 'o')\n",
    "axs[2, 1].plot(df['Acceleration_Y'], '.-b', label='acc')\n",
    "axs[2, 1].set_xlabel('t [s]')\n",
    "\n",
    "axs[0, 2].set_title('z')\n",
    "axs[0, 2].plot(df['Position_Z'], '.-r', label='pos')\n",
    "axs[1, 2].plot(df['Velocity_Z'], '.-g', label='vel')\n",
    "axs[2, 2].plot(df['Acceleration_Z'], '.-b', label='acc')\n",
    "axs[2, 2].set_xlabel('t [s]')\n",
    "\n",
    "plt.tight_layout()\n",
    "# [a.legend() for a in axs]\n",
    "plt.show()"
   ]
  },
  {
   "cell_type": "code",
   "execution_count": null,
   "metadata": {},
   "outputs": [],
   "source": []
  }
 ],
 "metadata": {
  "kernelspec": {
   "display_name": "Python 3",
   "language": "python",
   "name": "python3"
  },
  "language_info": {
   "codemirror_mode": {
    "name": "ipython",
    "version": 3
   },
   "file_extension": ".py",
   "mimetype": "text/x-python",
   "name": "python",
   "nbconvert_exporter": "python",
   "pygments_lexer": "ipython3",
   "version": "3.10.6"
  },
  "orig_nbformat": 4
 },
 "nbformat": 4,
 "nbformat_minor": 2
}
