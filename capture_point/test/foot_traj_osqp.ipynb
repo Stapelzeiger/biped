{
 "cells": [
  {
   "cell_type": "code",
   "execution_count": 59,
   "metadata": {},
   "outputs": [],
   "source": [
    "from sympy import *\n",
    "from sympy.matrices import BlockMatrix, Matrix, zeros\n",
    "import sympy as sp\n"
   ]
  },
  {
   "cell_type": "code",
   "execution_count": 159,
   "metadata": {},
   "outputs": [
    {
     "name": "stdout",
     "output_type": "stream",
     "text": [
      "Nb steps =  3\n",
      "nb_total_variables_per_coordinate 9\n",
      "27 variables\n"
     ]
    }
   ],
   "source": [
    "Ts = 0.03\n",
    "dt = 0.01\n",
    "foot_height_keep_STF = 0.2\n",
    "N = int(Ts/dt)\n",
    "print('Nb steps = ', N)\n",
    "nb_total_variables_per_coordinate = int(3 * N) # px, vx, zx\n",
    "print('nb_total_variables_per_coordinate', nb_total_variables_per_coordinate)\n",
    "nb_total_variables = 3 * nb_total_variables_per_coordinate # x, y, z\n",
    "print(nb_total_variables, 'variables')"
   ]
  },
  {
   "cell_type": "code",
   "execution_count": 160,
   "metadata": {},
   "outputs": [
    {
     "name": "stdout",
     "output_type": "stream",
     "text": [
      "------------------- Optimization Variable -------------------\n",
      "pva_vector =  27  variables\n",
      "[px₀, vx₀, ax₀, px₁, vx₁, ax₁, px₂, vx₂, ax₂]\n",
      "[py₀, vy₀, ay₀, py₁, vy₁, ay₁, py₂, vy₂, ay₂]\n",
      "[pz₀, vz₀, az₀, pz₁, vz₁, az₁, pz₂, vz₂, az₂]\n"
     ]
    }
   ],
   "source": [
    "variables = []\n",
    "coord = ['x', 'y', 'z']\n",
    "for c in coord:\n",
    "    for i in range(N):\n",
    "        p = symbols(f'p{c}{i}')\n",
    "        v = symbols(f'v{c}{i}')\n",
    "        a = symbols(f'a{c}{i}')\n",
    "        variables.extend([p, v, a])\n",
    "pva_vector = Matrix(variables)\n",
    "print('------------------- Optimization Variable -------------------')\n",
    "print('pva_vector = ', len(pva_vector), ' variables')\n",
    "for i in range(3):\n",
    "    pprint(pva_vector.T[i*nb_total_variables_per_coordinate:(i+1)*nb_total_variables_per_coordinate])\n"
   ]
  },
  {
   "cell_type": "code",
   "execution_count": 209,
   "metadata": {},
   "outputs": [
    {
     "name": "stdout",
     "output_type": "stream",
     "text": [
      "------------------- P Mat -------------------\n",
      "Objective function\n",
      "⎡   2      2      2      2      2      2      2      2      2         2       \n",
      "⎣ax₀  + ax₁  + ax₂  + ay₀  + ay₁  + ay₂  + az₀  + az₁  + az₂  + 10⋅px₂  - 4.0⋅\n",
      "\n",
      "            2                   2                2                2           \n",
      "px₂ + 10⋅py₂  - 4.0⋅py₂ + 10⋅pz₂  - 4.0⋅pz₂ + vx₂  - 0.4⋅vx₂ + vy₂  - 0.4⋅vy₂ \n",
      "\n",
      "     2          ⎤\n",
      "+ vz₂  - 0.4⋅vz₂⎦\n"
     ]
    }
   ],
   "source": [
    "from sympy import BlockMatrix, BlockDiagMatrix, MutableMatrix, ZeroMatrix\n",
    "\n",
    "print('------------------- P Mat -------------------')\n",
    "opt_weight_desired_pos = 10\n",
    "opt_weight_desired_vel = 1\n",
    "zero_matrix_3_by_3 = Matrix([[0, 0, 0], [0, 0, 0], [0, 0, 0]])\n",
    "\n",
    "block = Matrix([[0, 0, 0], [0, 0, 0], [0, 0, 0]])\n",
    "block[-1, -1] = 1\n",
    "P_matrix = zeros(nb_total_variables, nb_total_variables)\n",
    "\n",
    "# put the 3x3 block on the diagonals of P_matrix\n",
    "for i in range(nb_total_variables_per_coordinate):\n",
    "    P_matrix[i*3:(i+1)*3, i*3:(i+1)*3] = block\n",
    "    \n",
    "P_matrix[nb_total_variables_per_coordinate - 3, nb_total_variables_per_coordinate - 3] = opt_weight_desired_pos\n",
    "P_matrix[2*nb_total_variables_per_coordinate - 3, 2*nb_total_variables_per_coordinate - 3] = opt_weight_desired_pos\n",
    "P_matrix[3*nb_total_variables_per_coordinate - 3, 3*nb_total_variables_per_coordinate - 3] = opt_weight_desired_pos\n",
    "\n",
    "P_matrix[nb_total_variables_per_coordinate - 2, nb_total_variables_per_coordinate - 2] = opt_weight_desired_vel\n",
    "P_matrix[2*nb_total_variables_per_coordinate - 2, 2*nb_total_variables_per_coordinate - 2] = opt_weight_desired_vel\n",
    "P_matrix[3*nb_total_variables_per_coordinate - 2, 3*nb_total_variables_per_coordinate - 2] = opt_weight_desired_vel\n",
    "\n",
    "vPv = pva_vector.T * P_matrix * pva_vector\n",
    "\n",
    "p_N_des = 0.2\n",
    "v_N_des = 0.0\n",
    "q = zeros(nb_total_variables, 1)\n",
    "q[nb_total_variables_per_coordinate - 3] = -2*opt_weight_desired_pos*p_N_des\n",
    "q[2*nb_total_variables_per_coordinate - 3] = -2*opt_weight_desired_pos*p_N_des\n",
    "q[3*nb_total_variables_per_coordinate - 3] = -2*opt_weight_desired_pos*p_N_des\n",
    "\n",
    "q[nb_total_variables_per_coordinate - 2] = -2*opt_weight_desired_vel*v_N_des\n",
    "q[2*nb_total_variables_per_coordinate - 2] = -2*opt_weight_desired_vel*v_N_des\n",
    "q[3*nb_total_variables_per_coordinate - 2] = -2*opt_weight_desired_vel*v_N_des\n",
    "\n",
    "objective_function = vPv + q.T * pva_vector\n",
    "print('Objective function')\n",
    "pprint(objective_function)\n"
   ]
  },
  {
   "cell_type": "code",
   "execution_count": 162,
   "metadata": {},
   "outputs": [
    {
     "name": "stdout",
     "output_type": "stream",
     "text": [
      "------------------- Boundary Points Equality Contraints -------------------\n",
      "A_eq_pos_vel_desired * v = \n",
      "⎡px₀⎤\n",
      "⎢   ⎥\n",
      "⎢vx₀⎥\n",
      "⎢   ⎥\n",
      "⎢py₀⎥\n",
      "⎢   ⎥\n",
      "⎢vy₀⎥\n",
      "⎢   ⎥\n",
      "⎢pz₀⎥\n",
      "⎢   ⎥\n",
      "⎣vz₀⎦\n"
     ]
    }
   ],
   "source": [
    "\n",
    "A_eq_pos_vel_des = sp.zeros(6, nb_total_variables)\n",
    "\n",
    "A_eq_pos_vel_des[0, 0] = 1\n",
    "A_eq_pos_vel_des[1, 1] = 1\n",
    "\n",
    "A_eq_pos_vel_des[2, nb_total_variables_per_coordinate] = 1\n",
    "A_eq_pos_vel_des[3, nb_total_variables_per_coordinate + 1] = 1\n",
    "\n",
    "A_eq_pos_vel_des[4, 2*nb_total_variables_per_coordinate] = 1\n",
    "A_eq_pos_vel_des[5, 2*nb_total_variables_per_coordinate + 1] = 1\n",
    "\n",
    "result_vector = A_eq_pos_vel_des*pva_vector\n",
    "print('------------------- Boundary Points Equality Contraints -------------------')\n",
    "print('A_eq_pos_vel_desired * v = ')\n",
    "pprint(result_vector)"
   ]
  },
  {
   "cell_type": "code",
   "execution_count": 167,
   "metadata": {},
   "outputs": [
    {
     "name": "stdout",
     "output_type": "stream",
     "text": [
      "------------------- Dynamic Contraints -------------------\n",
      "⎡dt⋅vx₀ + px₀ - px₁⎤\n",
      "⎢                  ⎥\n",
      "⎢ax₀⋅dt + vx₀ - vx₁⎥\n",
      "⎢                  ⎥\n",
      "⎢dt⋅vx₁ + px₁ - px₂⎥\n",
      "⎢                  ⎥\n",
      "⎢ax₁⋅dt + vx₁ - vx₂⎥\n",
      "⎢                  ⎥\n",
      "⎢dt⋅vy₀ + py₀ - py₁⎥\n",
      "⎢                  ⎥\n",
      "⎢ay₀⋅dt + vy₀ - vy₁⎥\n",
      "⎢                  ⎥\n",
      "⎢dt⋅vy₁ + py₁ - py₂⎥\n",
      "⎢                  ⎥\n",
      "⎢ay₁⋅dt + vy₁ - vy₂⎥\n",
      "⎢                  ⎥\n",
      "⎢dt⋅vz₀ + pz₀ - pz₁⎥\n",
      "⎢                  ⎥\n",
      "⎢az₀⋅dt + vz₀ - vz₁⎥\n",
      "⎢                  ⎥\n",
      "⎢dt⋅vz₁ + pz₁ - pz₂⎥\n",
      "⎢                  ⎥\n",
      "⎣az₁⋅dt + vz₁ - vz₂⎦\n"
     ]
    }
   ],
   "source": [
    "dt_symbol = symbols('dt')\n",
    "block_dynamics = zeros(2, 6)\n",
    "block_dynamics[0, 0] = 1\n",
    "block_dynamics[0, 1] = dt_symbol\n",
    "block_dynamics[0, 3] = -1\n",
    "block_dynamics[1, 1] = 1\n",
    "block_dynamics[1, 2] = dt_symbol\n",
    "block_dynamics[1, 4] = -1\n",
    "A_dynamics_per_coordinate = zeros(2 * N - 2, 3 * N)\n",
    "\n",
    "j = 0\n",
    "for i in range(int((2 * N - 2)/2)):\n",
    "    A_dynamics_per_coordinate[j : j + 2, i * 3: i * 3 + 6] = block_dynamics\n",
    "    j = j + 2\n",
    "\n",
    "pva_vector_x_comp = pva_vector[0:nb_total_variables_per_coordinate, 0]\n",
    "\n",
    "size_rows_A = A_dynamics_per_coordinate.shape[0]\n",
    "size_cols_A = A_dynamics_per_coordinate.shape[1]\n",
    "A_dynamics = zeros(3 * size_rows_A, nb_total_variables)\n",
    "\n",
    "for i in range(3):\n",
    "    A_dynamics[i * size_rows_A : i * size_rows_A + size_rows_A, i * size_cols_A : i * size_cols_A + size_cols_A] = A_dynamics_per_coordinate\n",
    "\n",
    "mult = A_dynamics * pva_vector\n",
    "print('------------------- Dynamic Contraints -------------------')\n",
    "pprint(mult)"
   ]
  },
  {
   "cell_type": "code",
   "execution_count": 180,
   "metadata": {},
   "outputs": [
    {
     "name": "stdout",
     "output_type": "stream",
     "text": [
      "[vx₀  ax₀  vx₁  ax₁  vx₂  ax₂  vy₀  ay₀  vy₁  ay₁  vy₂  ay₂  vz₀  az₀  vz₁  az\n",
      "₁  vz₂  az₂]\n"
     ]
    }
   ],
   "source": [
    "block = zeros(2, 3)\n",
    "block[0, 1] = 1\n",
    "block[1, 2] = 1\n",
    "A_limits = zeros(nb_total_variables_per_coordinate * 2, nb_total_variables)\n",
    "\n",
    "for i in range(nb_total_variables_per_coordinate):\n",
    "    A_limits[2*i:2*(i+1), 3*i:3*(i+1)] = block\n",
    "\n",
    "pprint((A_limits*pva_vector).T)"
   ]
  },
  {
   "cell_type": "code",
   "execution_count": 188,
   "metadata": {},
   "outputs": [
    {
     "name": "stdout",
     "output_type": "stream",
     "text": [
      "A * PVA_VECTOR\n",
      "⎡       px₀        ⎤\n",
      "⎢                  ⎥\n",
      "⎢       vx₀        ⎥\n",
      "⎢                  ⎥\n",
      "⎢       py₀        ⎥\n",
      "⎢                  ⎥\n",
      "⎢       vy₀        ⎥\n",
      "⎢                  ⎥\n",
      "⎢       pz₀        ⎥\n",
      "⎢                  ⎥\n",
      "⎢       vz₀        ⎥\n",
      "⎢                  ⎥\n",
      "⎢dt⋅vx₀ + px₀ - px₁⎥\n",
      "⎢                  ⎥\n",
      "⎢ax₀⋅dt + vx₀ - vx₁⎥\n",
      "⎢                  ⎥\n",
      "⎢dt⋅vx₁ + px₁ - px₂⎥\n",
      "⎢                  ⎥\n",
      "⎢ax₁⋅dt + vx₁ - vx₂⎥\n",
      "⎢                  ⎥\n",
      "⎢dt⋅vy₀ + py₀ - py₁⎥\n",
      "⎢                  ⎥\n",
      "⎢ay₀⋅dt + vy₀ - vy₁⎥\n",
      "⎢                  ⎥\n",
      "⎢dt⋅vy₁ + py₁ - py₂⎥\n",
      "⎢                  ⎥\n",
      "⎢ay₁⋅dt + vy₁ - vy₂⎥\n",
      "⎢                  ⎥\n",
      "⎢dt⋅vz₀ + pz₀ - pz₁⎥\n",
      "⎢                  ⎥\n",
      "⎢az₀⋅dt + vz₀ - vz₁⎥\n",
      "⎢                  ⎥\n",
      "⎢dt⋅vz₁ + pz₁ - pz₂⎥\n",
      "⎢                  ⎥\n",
      "⎢az₁⋅dt + vz₁ - vz₂⎥\n",
      "⎢                  ⎥\n",
      "⎢       vx₀        ⎥\n",
      "⎢                  ⎥\n",
      "⎢       ax₀        ⎥\n",
      "⎢                  ⎥\n",
      "⎢       vx₁        ⎥\n",
      "⎢                  ⎥\n",
      "⎢       ax₁        ⎥\n",
      "⎢                  ⎥\n",
      "⎢       vx₂        ⎥\n",
      "⎢                  ⎥\n",
      "⎢       ax₂        ⎥\n",
      "⎢                  ⎥\n",
      "⎢       vy₀        ⎥\n",
      "⎢                  ⎥\n",
      "⎢       ay₀        ⎥\n",
      "⎢                  ⎥\n",
      "⎢       vy₁        ⎥\n",
      "⎢                  ⎥\n",
      "⎢       ay₁        ⎥\n",
      "⎢                  ⎥\n",
      "⎢       vy₂        ⎥\n",
      "⎢                  ⎥\n",
      "⎢       ay₂        ⎥\n",
      "⎢                  ⎥\n",
      "⎢       vz₀        ⎥\n",
      "⎢                  ⎥\n",
      "⎢       az₀        ⎥\n",
      "⎢                  ⎥\n",
      "⎢       vz₁        ⎥\n",
      "⎢                  ⎥\n",
      "⎢       az₁        ⎥\n",
      "⎢                  ⎥\n",
      "⎢       vz₂        ⎥\n",
      "⎢                  ⎥\n",
      "⎣       az₂        ⎦\n"
     ]
    }
   ],
   "source": [
    "A_total = Matrix.vstack(A_eq_pos_vel_des,\n",
    "                    A_dynamics,\n",
    "                    A_limits)\n",
    "\n",
    "print('A * PVA_VECTOR')\n",
    "pprint(A_total*pva_vector)"
   ]
  },
  {
   "cell_type": "code",
   "execution_count": 198,
   "metadata": {},
   "outputs": [
    {
     "data": {
      "text/latex": [
       "$\\displaystyle \\left[\\begin{matrix}0\\\\0\\\\0\\\\0\\\\0\\\\0\\end{matrix}\\right]$"
      ],
      "text/plain": [
       "Matrix([\n",
       "[0],\n",
       "[0],\n",
       "[0],\n",
       "[0],\n",
       "[0],\n",
       "[0]])"
      ]
     },
     "execution_count": 198,
     "metadata": {},
     "output_type": "execute_result"
    }
   ],
   "source": [
    "# Limits\n",
    "p0_desired = 0.0\n",
    "v0_desired = 0.0\n",
    "\n",
    "l_boundary_pts_per_coordinate = Matrix([p0_desired, v0_desired])\n",
    "u_boundary_pts_per_coordinate = Matrix([p0_desired, v0_desired])\n",
    "\n",
    "\n",
    "l_boundary_pts = Matrix.vstack(l_boundary_pts_per_coordinate, l_boundary_pts_per_coordinate, l_boundary_pts_per_coordinate)\n",
    "u_boundary_pts = Matrix.vstack(u_boundary_pts_per_coordinate, u_boundary_pts_per_coordinate, u_boundary_pts_per_coordinate)\n",
    "\n",
    "l_boundary_pts"
   ]
  },
  {
   "cell_type": "code",
   "execution_count": 206,
   "metadata": {},
   "outputs": [
    {
     "name": "stdout",
     "output_type": "stream",
     "text": [
      "3\n",
      "(6, 1)\n"
     ]
    },
    {
     "ename": "ValueError",
     "evalue": "unexpected value: -1000.0",
     "output_type": "error",
     "traceback": [
      "\u001b[0;31m---------------------------------------------------------------------------\u001b[0m",
      "\u001b[0;31mValueError\u001b[0m                                Traceback (most recent call last)",
      "Cell \u001b[0;32mIn[206], line 7\u001b[0m\n\u001b[1;32m      5\u001b[0m u_limits_per_coordinate \u001b[39m=\u001b[39m zeros(\u001b[39m2\u001b[39m \u001b[39m*\u001b[39m N, \u001b[39m1\u001b[39m)\n\u001b[1;32m      6\u001b[0m \u001b[39mprint\u001b[39m(l_limits_per_coordinate\u001b[39m.\u001b[39mshape)\n\u001b[0;32m----> 7\u001b[0m l_limits_per_coordinate[\u001b[39m0\u001b[39;49m::\u001b[39m2\u001b[39;49m, \u001b[39m0\u001b[39;49m] \u001b[39m=\u001b[39m \u001b[39m-\u001b[39mv_max\n\u001b[1;32m      8\u001b[0m l_limits_per_coordinate[\u001b[39m1\u001b[39m::\u001b[39m2\u001b[39m, \u001b[39m0\u001b[39m] \u001b[39m=\u001b[39m \u001b[39m-\u001b[39ma_max\n\u001b[1;32m      9\u001b[0m u_limits_per_coordinate[\u001b[39m0\u001b[39m::\u001b[39m2\u001b[39m] \u001b[39m=\u001b[39m v_max\n",
      "File \u001b[0;32m/usr/lib/python3/dist-packages/sympy/matrices/repmatrix.py:388\u001b[0m, in \u001b[0;36mMutableRepMatrix.__setitem__\u001b[0;34m(self, key, value)\u001b[0m\n\u001b[1;32m    348\u001b[0m \u001b[39mdef\u001b[39;00m \u001b[39m__setitem__\u001b[39m(\u001b[39mself\u001b[39m, key, value):\n\u001b[1;32m    349\u001b[0m     \u001b[39m\"\"\"\u001b[39;00m\n\u001b[1;32m    350\u001b[0m \n\u001b[1;32m    351\u001b[0m \u001b[39m    Examples\u001b[39;00m\n\u001b[0;32m   (...)\u001b[0m\n\u001b[1;32m    386\u001b[0m \u001b[39m    [2, 2, 4, 2]])\u001b[39;00m\n\u001b[1;32m    387\u001b[0m \u001b[39m    \"\"\"\u001b[39;00m\n\u001b[0;32m--> 388\u001b[0m     rv \u001b[39m=\u001b[39m \u001b[39mself\u001b[39;49m\u001b[39m.\u001b[39;49m_setitem(key, value)\n\u001b[1;32m    389\u001b[0m     \u001b[39mif\u001b[39;00m rv \u001b[39mis\u001b[39;00m \u001b[39mnot\u001b[39;00m \u001b[39mNone\u001b[39;00m:\n\u001b[1;32m    390\u001b[0m         i, j, value \u001b[39m=\u001b[39m rv\n",
      "File \u001b[0;32m/usr/lib/python3/dist-packages/sympy/matrices/matrices.py:1203\u001b[0m, in \u001b[0;36mMatrixBase._setitem\u001b[0;34m(self, key, value)\u001b[0m\n\u001b[1;32m   1201\u001b[0m         \u001b[39mself\u001b[39m\u001b[39m.\u001b[39mcopyin_list(key, value)\n\u001b[1;32m   1202\u001b[0m         \u001b[39mreturn\u001b[39;00m\n\u001b[0;32m-> 1203\u001b[0m     \u001b[39mraise\u001b[39;00m \u001b[39mValueError\u001b[39;00m(\u001b[39m'\u001b[39m\u001b[39munexpected value: \u001b[39m\u001b[39m%s\u001b[39;00m\u001b[39m'\u001b[39m \u001b[39m%\u001b[39m value)\n\u001b[1;32m   1204\u001b[0m \u001b[39melse\u001b[39;00m:\n\u001b[1;32m   1205\u001b[0m     \u001b[39mif\u001b[39;00m (\u001b[39mnot\u001b[39;00m is_mat \u001b[39mand\u001b[39;00m\n\u001b[1;32m   1206\u001b[0m             \u001b[39mnot\u001b[39;00m \u001b[39misinstance\u001b[39m(value, Basic) \u001b[39mand\u001b[39;00m is_sequence(value)):\n",
      "\u001b[0;31mValueError\u001b[0m: unexpected value: -1000.0"
     ]
    }
   ],
   "source": [
    "v_max = 1000.0\n",
    "a_max = 3000.0\n",
    "print(N)\n",
    "l_limits_per_coordinate = zeros(2 * N, 1)\n",
    "u_limits_per_coordinate = zeros(2 * N, 1)\n",
    "print(l_limits_per_coordinate.shape)\n",
    "l_limits_per_coordinate[0::2] = -v_max\n",
    "l_limits_per_coordinate[1::2] = -a_max\n",
    "u_limits_per_coordinate[0::2] = v_max\n",
    "u_limits_per_coordinate[1::2] = a_max\n",
    "\n",
    "l_limits = np.vstack([l_limits_per_coordinate] * 3)\n",
    "u_limits = np.vstack([u_limits_per_coordinate] * 3)"
   ]
  },
  {
   "cell_type": "code",
   "execution_count": null,
   "metadata": {},
   "outputs": [],
   "source": []
  }
 ],
 "metadata": {
  "kernelspec": {
   "display_name": "Python 3",
   "language": "python",
   "name": "python3"
  },
  "language_info": {
   "codemirror_mode": {
    "name": "ipython",
    "version": 3
   },
   "file_extension": ".py",
   "mimetype": "text/x-python",
   "name": "python",
   "nbconvert_exporter": "python",
   "pygments_lexer": "ipython3",
   "version": "3.10.6"
  },
  "orig_nbformat": 4
 },
 "nbformat": 4,
 "nbformat_minor": 2
}
