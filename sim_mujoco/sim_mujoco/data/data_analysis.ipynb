{
 "cells": [
  {
   "attachments": {},
   "cell_type": "markdown",
   "metadata": {},
   "source": []
  },
  {
   "attachments": {},
   "cell_type": "markdown",
   "metadata": {},
   "source": [
    "### Dataset\n",
    "\n",
    "nb_joints = 8\n",
    "\n",
    "```\n",
    "                        |-----------------|\n",
    "joint_states [qj, qdotj]|                 |\n",
    "------------------------|                 |\n",
    "baselink vel - BF       |                 |    tau_ff (size: nb_joints x 1)\n",
    "------------------------|                 |---------------------\n",
    "baselink_n, omega - BF  |                 |    q_j_des (size: nb_joints x 1)\n",
    "------------------------|                 |---------------------\n",
    "goal(vx_des, vy_des) BF |                 |    q_j_vel_des (size: nb_joints x 1)\n",
    "------------------------|                 |---------------------\n",
    "t_since_contact (R)     |                 |\n",
    "t_since_no_contact (R)  |                 |    \n",
    "------------------------|                 |\n",
    "t_since_contact (L)     |                 |\n",
    "t_since_no_contact (L)  |                 |\n",
    "------------------------|                 |\n",
    "pos_right_foot (BF)     |                 |\n",
    "------------------------|                 |\n",
    "pos_left_foot (BF)      |                 |\n",
    "------------------------|-----------------|\n",
    "```\n",
    "\n",
    "\n",
    "BF - baselink frame\n",
    "\n",
    "L - left\n",
    "\n",
    "R - right\n",
    "\n",
    "baselink_n - normal vector in body frame (i.e. n_I = [0, 0, 1], n_B = R.T@n_I)\n"
   ]
  },
  {
   "cell_type": "code",
   "execution_count": null,
   "metadata": {},
   "outputs": [],
   "source": [
    "\n"
   ]
  },
  {
   "cell_type": "code",
   "execution_count": null,
   "metadata": {},
   "outputs": [],
   "source": [
    "\n"
   ]
  },
  {
   "cell_type": "markdown",
   "metadata": {},
   "source": []
  },
  {
   "attachments": {},
   "cell_type": "markdown",
   "metadata": {},
   "source": []
  },
  {
   "cell_type": "code",
   "execution_count": null,
   "metadata": {},
   "outputs": [],
   "source": []
  }
 ],
 "metadata": {
  "kernelspec": {
   "display_name": "Python 3",
   "language": "python",
   "name": "python3"
  },
  "language_info": {
   "codemirror_mode": {
    "name": "ipython",
    "version": 3
   },
   "file_extension": ".py",
   "mimetype": "text/x-python",
   "name": "python",
   "nbconvert_exporter": "python",
   "pygments_lexer": "ipython3",
   "version": "3.10.6"
  },
  "orig_nbformat": 4
 },
 "nbformat": 4,
 "nbformat_minor": 2
}
