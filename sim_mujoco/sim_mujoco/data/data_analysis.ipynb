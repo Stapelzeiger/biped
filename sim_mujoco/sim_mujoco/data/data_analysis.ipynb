{
 "cells": [
  {
   "attachments": {},
   "cell_type": "markdown",
   "metadata": {},
   "source": []
  },
  {
   "attachments": {},
   "cell_type": "markdown",
   "metadata": {},
   "source": [
    "### Dataset\n",
    "\n",
    "nb_joints = 8\n",
    "\n",
    "```\n",
    "                        |-----------------|\n",
    "joint_states [qj, qdotj]|                 |\n",
    "------------------------|                 |\n",
    "baselink vel - BF       |                 |    tau_ff (size: nb_joints x 1)\n",
    "------------------------|                 |---------------------\n",
    "baselink_n, omega - BF  |                 |    q_j_des (size: nb_joints x 1)\n",
    "------------------------|                 |---------------------\n",
    "goal(vx_des, vy_des) BF |                 |    q_j_vel_des (size: nb_joints x 1)\n",
    "------------------------|                 |---------------------\n",
    "t_since_contact (R)     |                 |\n",
    "t_since_no_contact (R)  |                 |    \n",
    "------------------------|                 |\n",
    "t_since_contact (L)     |                 |\n",
    "t_since_no_contact (L)  |                 |\n",
    "------------------------|                 |\n",
    "pos_right_foot (BF)     |                 |\n",
    "------------------------|                 |\n",
    "pos_left_foot (BF)      |                 |\n",
    "------------------------|-----------------|\n",
    "```\n",
    "\n",
    "\n",
    "BF - baselink frame\n",
    "\n",
    "L - left\n",
    "\n",
    "R - right\n",
    "\n",
    "baselink_n - normal vector in body frame (i.e. n_I = [0, 0, 1], n_B = R.T@n_I)\n"
   ]
  },
  {
   "cell_type": "code",
   "execution_count": null,
   "metadata": {},
   "outputs": [],
   "source": [
    "import pandas as pd\n",
    "import matplotlib.pyplot as plt\n",
    "\n",
    "#FREQUENCY 1000 Hz\n",
    "\n",
    "dataset = pd.read_csv('dataset.csv')\n",
    "dataset.head()\n",
    "print(dataset['time'][1] - dataset['time'][0])\n",
    "print(dataset['time'][2] - dataset['time'][1])\n",
    "adjusted_time = dataset['time'] - dataset['time'][0]\n",
    "print(adjusted_time)\n"
   ]
  },
  {
   "cell_type": "code",
   "execution_count": null,
   "metadata": {},
   "outputs": [],
   "source": [
    "# plot all the joints\n",
    "list_joints_names = ['YAW', 'HAA', 'HFE', 'KFE', 'ANKLE']\n",
    "\n",
    "\n",
    "\n",
    "fig, axs = plt.subplots(2, 2, figsize=(10, 10))\n",
    "for joint_name in list_joints_names:\n",
    "    axs[0,0].set_title('left joints pos')\n",
    "    axs[0,0].plot(adjusted_time, dataset['L_'+ joint_name + '_pos'])\n",
    "    axs[0,1].set_title('right joints pos')\n",
    "    axs[0,1].plot(adjusted_time, dataset['R_'+ joint_name + '_pos'])\n",
    "\n",
    "    axs[1,0].set_title('left joints vel')\n",
    "    axs[1,0].plot(adjusted_time, dataset['L_'+ joint_name + '_vel'])\n",
    "    axs[1,1].set_title('right joints vel')\n",
    "    axs[1,1].plot(adjusted_time, dataset['R_'+ joint_name + '_vel'])\n",
    "\n",
    "# print(len(dataset['L_'+ joint_name + '_pos']))\n"
   ]
  },
  {
   "cell_type": "markdown",
   "metadata": {},
   "source": []
  },
  {
   "attachments": {},
   "cell_type": "markdown",
   "metadata": {},
   "source": []
  },
  {
   "cell_type": "code",
   "execution_count": null,
   "metadata": {},
   "outputs": [],
   "source": [
    "\n",
    "plt.plot(dataset['vel_x_BF'], label='x')\n",
    "plt.plot(dataset['vel_y_BF'], label='y')\n",
    "plt.plot(dataset['vx_des_BF'], label='x_des')\n",
    "plt.plot(dataset['vy_des_BF'], label='y_des')\n",
    "plt.legend()\n",
    "# Note, see the fact that we walk with higher velocity at some point (aka not walk backwards lol)"
   ]
  },
  {
   "cell_type": "code",
   "execution_count": null,
   "metadata": {},
   "outputs": [],
   "source": [
    "\n",
    "plt.plot(dataset['normal_vec_x_BF'], label='x')\n",
    "plt.plot(dataset['normal_vec_y_BF'], label='y')\n",
    "plt.plot(dataset['normal_vec_z_BF'], label='z')\n",
    "plt.legend()"
   ]
  },
  {
   "cell_type": "code",
   "execution_count": null,
   "metadata": {},
   "outputs": [],
   "source": []
  },
  {
   "cell_type": "code",
   "execution_count": null,
   "metadata": {},
   "outputs": [],
   "source": []
  },
  {
   "cell_type": "code",
   "execution_count": null,
   "metadata": {},
   "outputs": [],
   "source": []
  },
  {
   "cell_type": "code",
   "execution_count": null,
   "metadata": {},
   "outputs": [],
   "source": []
  }
 ],
 "metadata": {
  "kernelspec": {
   "display_name": "Python 3",
   "language": "python",
   "name": "python3"
  },
  "language_info": {
   "codemirror_mode": {
    "name": "ipython",
    "version": 3
   },
   "file_extension": ".py",
   "mimetype": "text/x-python",
   "name": "python",
   "nbconvert_exporter": "python",
   "pygments_lexer": "ipython3",
   "version": "3.10.6"
  }
 },
 "nbformat": 4,
 "nbformat_minor": 2
}
