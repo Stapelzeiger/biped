{
 "cells": [
  {
   "attachments": {},
   "cell_type": "markdown",
   "metadata": {},
   "source": []
  },
  {
   "attachments": {},
   "cell_type": "markdown",
   "metadata": {},
   "source": [
    "### Dataset\n",
    "\n",
    "nb_joints = 8\n",
    "\n",
    "```\n",
    "                        |-----------------|\n",
    "joint_states [qj, qdotj]|                 |\n",
    "------------------------|                 |\n",
    "baselink vel - BF       |                 |    tau_ff (size: nb_joints x 1)\n",
    "------------------------|                 |---------------------\n",
    "baselink_n, omega - BF  |                 |    q_j_des (size: nb_joints x 1)\n",
    "------------------------|                 |---------------------\n",
    "goal(vx_des, vy_des) BF |                 |    q_j_vel_des (size: nb_joints x 1)\n",
    "------------------------|                 |---------------------\n",
    "t_since_contact (R)     |                 |\n",
    "t_since_no_contact (R)  |                 |    \n",
    "------------------------|                 |\n",
    "t_since_contact (L)     |                 |\n",
    "t_since_no_contact (L)  |                 |\n",
    "------------------------|                 |\n",
    "pos_right_foot (BF)     |                 |\n",
    "------------------------|                 |\n",
    "pos_left_foot (BF)      |                 |\n",
    "------------------------|-----------------|\n",
    "```\n",
    "\n",
    "\n",
    "BF - baselink frame\n",
    "\n",
    "L - left\n",
    "\n",
    "R - right\n",
    "\n",
    "baselink_n - normal vector in body frame (i.e. n_I = [0, 0, 1], n_B = R.T@n_I)\n"
   ]
  },
  {
   "cell_type": "code",
   "execution_count": null,
   "metadata": {},
   "outputs": [],
   "source": [
    "import pandas as pd\n",
    "import numpy as np\n",
    "import matplotlib.pyplot as plt\n",
    "\n",
    "#FREQUENCY 1000 Hz\n",
    "\n",
    "dataset = pd.read_csv('dataset.csv')\n",
    "dataset.head()\n",
    "print(dataset['time'][1] - dataset['time'][0])\n",
    "print(dataset['time'][2] - dataset['time'][1])\n",
    "adjusted_time = dataset['time'] - dataset['time'][0]\n",
    "print(adjusted_time)\n"
   ]
  },
  {
   "cell_type": "code",
   "execution_count": null,
   "metadata": {},
   "outputs": [],
   "source": [
    "# plot all the joints\n",
    "list_joints_names = ['YAW', 'HAA', 'HFE', 'KFE', 'ANKLE']\n",
    "\n",
    "\n",
    "\n",
    "fig, axs = plt.subplots(2, 2, figsize=(10, 10))\n",
    "for joint_name in list_joints_names:\n",
    "    axs[0,0].set_title('left joints pos')\n",
    "    axs[0,0].plot(adjusted_time, dataset['L_'+ joint_name + '_pos'])\n",
    "    axs[0,1].set_title('right joints pos')\n",
    "    axs[0,1].plot(adjusted_time, dataset['R_'+ joint_name + '_pos'])\n",
    "\n",
    "    axs[1,0].set_title('left joints vel')\n",
    "    axs[1,0].plot(adjusted_time, dataset['L_'+ joint_name + '_vel'])\n",
    "    axs[1,1].set_title('right joints vel')\n",
    "    axs[1,1].plot(adjusted_time, dataset['R_'+ joint_name + '_vel'])\n",
    "\n",
    "# print(len(dataset['L_'+ joint_name + '_pos']))\n"
   ]
  },
  {
   "attachments": {},
   "cell_type": "markdown",
   "metadata": {},
   "source": []
  },
  {
   "attachments": {},
   "cell_type": "markdown",
   "metadata": {},
   "source": []
  },
  {
   "cell_type": "code",
   "execution_count": null,
   "metadata": {},
   "outputs": [],
   "source": [
    "\n",
    "plt.plot(dataset['vel_x_BF'], label='x')\n",
    "plt.plot(dataset['vel_y_BF'], label='y')\n",
    "plt.plot(dataset['vx_des_BF'], label='x_des')\n",
    "plt.plot(dataset['vy_des_BF'], label='y_des')\n",
    "plt.legend()\n",
    "# Note, see the fact that we walk with higher velocity at some point (aka not walk backwards lol)"
   ]
  },
  {
   "cell_type": "code",
   "execution_count": null,
   "metadata": {},
   "outputs": [],
   "source": [
    "\n",
    "plt.plot(dataset['normal_vec_x_BF'], label='x')\n",
    "plt.plot(dataset['normal_vec_y_BF'], label='y')\n",
    "plt.plot(dataset['normal_vec_z_BF'], label='z')\n",
    "plt.legend()"
   ]
  },
  {
   "cell_type": "code",
   "execution_count": null,
   "metadata": {},
   "outputs": [],
   "source": []
  },
  {
   "cell_type": "code",
   "execution_count": null,
   "metadata": {},
   "outputs": [],
   "source": []
  },
  {
   "cell_type": "code",
   "execution_count": null,
   "metadata": {},
   "outputs": [],
   "source": []
  },
  {
   "cell_type": "code",
   "execution_count": 8,
   "metadata": {},
   "outputs": [],
   "source": [
    "state_columns = [\n",
    "    \"L_YAW_pos\", \"L_HAA_pos\", \"L_HFE_pos\", \"L_KFE_pos\", \"L_ANKLE_pos\",\n",
    "    \"R_YAW_pos\", \"R_HAA_pos\", \"R_HFE_pos\", \"R_KFE_pos\", \"R_ANKLE_pos\",\n",
    "    \"L_YAW_vel\", \"L_HAA_vel\", \"L_HFE_vel\", \"L_KFE_vel\", \"L_ANKLE_vel\",\n",
    "    \"R_YAW_vel\", \"R_HAA_vel\", \"R_HFE_vel\", \"R_KFE_vel\", \"R_ANKLE_vel\", \n",
    "    \"vel_x_BF\", \"vel_y_BF\", \"vel_z_BF\", \"normal_vec_x_BF\", \"normal_vec_y_BF\", \"normal_vec_z_BF\", \n",
    "    \"omega_x\", \"omega_y\", \"omega_z\", \"vx_des_BF\", \"vy_des_BF\", \n",
    "    \"right_foot_t_since_contact\", \"right_foot_t_since_no_contact\", \n",
    "    \"right_foot_pos_x_BF\", \"right_foot_pos_y_BF\", \"right_foot_pos_z_BF\",\n",
    "    \"left_foot_t_since_contact\", \"left_foot_t_since_no_contact\",\n",
    "    \"left_foot_pos_x_BF\", \"left_foot_pos_y_BF\", \"left_foot_pos_z_BF\"\n",
    "]\n",
    "\n",
    "state = dataset[state_columns].to_numpy()\n",
    "state_means = np.mean(state, 0)\n",
    "state_stds = np.std(state, 0)\n",
    "\n",
    "action_columns = [\n",
    "    \"L_YAW_tau_ff\", \"L_HAA_tau_ff\", \"L_HFE_tau_ff\", \"L_KFE_tau_ff\", \"L_ANKLE_tau_ff\",\n",
    "    \"R_YAW_tau_ff\", \"R_HAA_tau_ff\", \"R_HFE_tau_ff\", \"R_KFE_tau_ff\", \"R_ANKLE_tau_ff\",\n",
    "    \"L_YAW_q_des\", \"L_HAA_q_des\", \"L_HFE_q_des\", \"L_KFE_q_des\", \"L_ANKLE_q_des\",\n",
    "    \"R_YAW_q_des\", \"R_HAA_q_des\", \"R_HFE_q_des\", \"R_KFE_q_des\", \"R_ANKLE_q_des\",\n",
    "    \"L_YAW_q_vel des\", \"L_HAA_q_vel des\", \"L_HFE_q_vel des\", \"L_KFE_q_vel des\", \"L_ANKLE_q_vel des\",\n",
    "    \"R_YAW_q_vel des\", \"R_HAA_q_vel des\", \"R_HFE_q_vel des\", \"R_KFE_q_vel des\", \"R_ANKLE_q_vel des\"\n",
    "]\n",
    "\n",
    "action = dataset[action_columns].to_numpy()\n",
    "action_means = np.mean(action, 0)\n",
    "action_stds = np.std(action, 0)"
   ]
  },
  {
   "cell_type": "code",
   "execution_count": 11,
   "metadata": {},
   "outputs": [
    {
     "name": "stdout",
     "output_type": "stream",
     "text": [
      "[-4.56787407e-04 -1.09177744e-01  8.08806695e-01 -1.28167406e+00\n",
      "  3.87644949e-01 -7.47006518e-04  9.78293159e-02  8.43807473e-01\n",
      " -1.26811855e+00  3.29656052e-01  1.35687292e-04 -2.50620067e-03\n",
      " -6.72942795e-04  2.32675877e-03 -1.65159255e-03 -1.11130434e-04\n",
      " -1.38965692e-03  8.83909547e-04 -1.14768245e-03  3.04545730e-04\n",
      " -1.74039562e-01  1.20544552e-03  5.03210465e-04 -6.93898609e-04\n",
      "  5.05495975e-04  9.99237161e-01 -9.09510234e-05  2.42114093e-03\n",
      "  1.82811675e-02  1.69947507e-02  1.18562219e-05 -4.09220584e-02\n",
      " -5.84621581e-02 -5.19637621e-01  1.55774170e-01  0.00000000e+00\n",
      " -2.48428723e-02  5.28185934e-02 -5.19336045e-01  1.58553181e-01\n",
      "  6.38576612e+01]\n",
      "[False False False False False False False False False False False False\n",
      " False False False False False False False False False False False False\n",
      " False False False False False False False False False False False  True\n",
      " False False False False False]\n",
      "right_foot_pos_z_BF\n"
     ]
    }
   ],
   "source": [
    "print(state_means)\n",
    "print(state_means == 0)\n",
    "print(state_columns[-6])"
   ]
  },
  {
   "cell_type": "code",
   "execution_count": 13,
   "metadata": {},
   "outputs": [
    {
     "name": "stdout",
     "output_type": "stream",
     "text": [
      "[3.49870079e-03 6.21958663e-02 1.47134487e-01 2.31865356e-01\n",
      " 1.00060455e-01 4.56425970e-03 6.33595965e-02 1.43059716e-01\n",
      " 2.41482708e-01 1.06872200e-01 2.06775569e-01 1.05307016e+00\n",
      " 2.68934758e+00 4.36657490e+00 3.57478392e+00 2.46382049e-01\n",
      " 1.18730868e+00 2.61054123e+00 4.41668262e+00 3.40386970e+00\n",
      " 1.28213647e-01 2.06589534e-01 1.18798596e-01 1.18183065e-02\n",
      " 3.72027800e-02 8.00140832e-04 6.42078582e-01 3.66103115e-01\n",
      " 2.97670397e-01 2.39967110e-02 4.43748996e-02 2.75323941e-02\n",
      " 4.55039989e-02 3.86907783e-02 1.81466877e-01 0.00000000e+00\n",
      " 2.91370439e-02 4.62556344e-02 3.78228002e-02 1.83388394e-01\n",
      " 3.25667489e+01]\n",
      "[False False False False False False False False False False False False\n",
      " False False False False False False False False False False False False\n",
      " False False False False False False False False False False False  True\n",
      " False False False False False]\n",
      "right_foot_pos_z_BF\n"
     ]
    }
   ],
   "source": [
    "print(state_stds)\n",
    "print(state_stds == 0)\n",
    "print(state_columns[-6])"
   ]
  },
  {
   "cell_type": "code",
   "execution_count": 12,
   "metadata": {},
   "outputs": [
    {
     "data": {
      "text/plain": [
       "[<matplotlib.lines.Line2D at 0x7f2bb539baf0>]"
      ]
     },
     "execution_count": 12,
     "metadata": {},
     "output_type": "execute_result"
    },
    {
     "data": {
      "image/png": "[encoded data removed]",
      "text/plain": [
       "<Figure size 640x480 with 1 Axes>"
      ]
     },
     "metadata": {},
     "output_type": "display_data"
    }
   ],
   "source": [
    "plt.plot(dataset[state_columns[-6]])"
   ]
  }
 ],
 "metadata": {
  "kernelspec": {
   "display_name": "Python 3",
   "language": "python",
   "name": "python3"
  },
  "language_info": {
   "codemirror_mode": {
    "name": "ipython",
    "version": 3
   },
   "file_extension": ".py",
   "mimetype": "text/x-python",
   "name": "python",
   "nbconvert_exporter": "python",
   "pygments_lexer": "ipython3",
   "version": "3.10.6"
  }
 },
 "nbformat": 4,
 "nbformat_minor": 2
}
